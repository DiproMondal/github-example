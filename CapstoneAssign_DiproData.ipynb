{
 "cells": [
  {
   "cell_type": "markdown",
   "metadata": {},
   "source": [
    "# <b> Capstone Project Data Section </b>"
   ]
  },
  {
   "cell_type": "markdown",
   "metadata": {},
   "source": [
    "## Importing Libraries"
   ]
  },
  {
   "cell_type": "code",
   "execution_count": 1,
   "metadata": {},
   "outputs": [],
   "source": [
    "import numpy as np # library to handle data in a vectorized manner\n",
    "\n",
    "import pandas as pd # library for data analsysis\n",
    "pd.set_option('display.max_columns', None)\n",
    "pd.set_option('display.max_rows', None)\n",
    "\n",
    "import json # library to handle JSON files\n",
    "\n",
    "#!conda install -c conda-forge geopy --yes # uncomment this line if you haven't completed the Foursquare API lab\n",
    "from geopy.geocoders import Nominatim # convert an address into latitude and longitude values\n",
    "\n",
    "import requests # library to handle requests\n",
    "from pandas.io.json import json_normalize # tranform JSON file into a pandas dataframe\n",
    "\n",
    "\n",
    "# Matplotlib and associated plotting modules\n",
    "import matplotlib.cm as cm\n",
    "import matplotlib.colors as colors\n",
    "import matplotlib.pyplot as plt\n",
    "\n",
    "# import k-means from clustering stage\n",
    "from sklearn.cluster import KMeans\n",
    "\n",
    "#!conda install -c conda-forge folium=0.5.0 --yes # uncomment this line if you haven't completed the Foursquare API lab\n",
    "import folium # map rendering library"
   ]
  },
  {
   "cell_type": "markdown",
   "metadata": {},
   "source": [
    "## <b> Background problem and Data Acquisition</b>\n",
    "<b>Q: Which is the best city to start a new Restaurant?</b>\n",
    " <i> India is already an overpopulated city. There are always a need for building new restaurants. In this capstone project I will try to recommend a city for bulding a restaurant based on restaurant population with respect to city population. For this I will require:</i>\n",
    "<ul>\n",
    "  <li>Population of India with respect to its different cities - to be obtained by scraping data from websites</li>\n",
    "  <li>City latitude and longitude (location) - to be obtained by scraping data from websites</li>\n",
    "  <li>Number of Restaurants for different cities - to be obtained from Foursquare</li>\n",
    "</ul>\n",
    "<i> I have selected the site <a> 'http://worldpopulationreview.com/countries/india-population/cities/ </a> which provides up-to-date data on population as well as the location coordinates required for my project. </i>"
   ]
  },
  {
   "cell_type": "markdown",
   "metadata": {},
   "source": [
    "<b>Below I have scraped and cleaned the data and assigned a dataframe df for the data I will be using</b>"
   ]
  },
  {
   "cell_type": "code",
   "execution_count": 4,
   "metadata": {},
   "outputs": [
    {
     "data": {
      "text/html": [
       "<div>\n",
       "<style scoped>\n",
       "    .dataframe tbody tr th:only-of-type {\n",
       "        vertical-align: middle;\n",
       "    }\n",
       "\n",
       "    .dataframe tbody tr th {\n",
       "        vertical-align: top;\n",
       "    }\n",
       "\n",
       "    .dataframe thead th {\n",
       "        text-align: right;\n",
       "    }\n",
       "</style>\n",
       "<table border=\"1\" class=\"dataframe\">\n",
       "  <thead>\n",
       "    <tr style=\"text-align: right;\">\n",
       "      <th></th>\n",
       "      <th>City</th>\n",
       "      <th>Population_2019</th>\n",
       "      <th>Latitude</th>\n",
       "      <th>Longitude</th>\n",
       "    </tr>\n",
       "  </thead>\n",
       "  <tbody>\n",
       "    <tr>\n",
       "      <th>0</th>\n",
       "      <td>Mumbai</td>\n",
       "      <td>12691836</td>\n",
       "      <td>19.07283</td>\n",
       "      <td>72.88261</td>\n",
       "    </tr>\n",
       "    <tr>\n",
       "      <th>1</th>\n",
       "      <td>Delhi</td>\n",
       "      <td>10927986</td>\n",
       "      <td>28.65195</td>\n",
       "      <td>77.23149</td>\n",
       "    </tr>\n",
       "    <tr>\n",
       "      <th>2</th>\n",
       "      <td>Bengaluru</td>\n",
       "      <td>5104047</td>\n",
       "      <td>12.97194</td>\n",
       "      <td>77.59369</td>\n",
       "    </tr>\n",
       "    <tr>\n",
       "      <th>3</th>\n",
       "      <td>Kolkata</td>\n",
       "      <td>4631392</td>\n",
       "      <td>22.56263</td>\n",
       "      <td>88.36304</td>\n",
       "    </tr>\n",
       "    <tr>\n",
       "      <th>4</th>\n",
       "      <td>Chennai</td>\n",
       "      <td>4328063</td>\n",
       "      <td>13.08784</td>\n",
       "      <td>80.27847</td>\n",
       "    </tr>\n",
       "  </tbody>\n",
       "</table>\n",
       "</div>"
      ],
      "text/plain": [
       "        City  Population_2019  Latitude  Longitude\n",
       "0     Mumbai         12691836  19.07283   72.88261\n",
       "1      Delhi         10927986  28.65195   77.23149\n",
       "2  Bengaluru          5104047  12.97194   77.59369\n",
       "3    Kolkata          4631392  22.56263   88.36304\n",
       "4    Chennai          4328063  13.08784   80.27847"
      ]
     },
     "execution_count": 4,
     "metadata": {},
     "output_type": "execute_result"
    }
   ],
   "source": [
    "from bs4 import BeautifulSoup\n",
    "import requests\n",
    "source= requests.get('http://worldpopulationreview.com/countries/india-population/cities/').text\n",
    "soup=BeautifulSoup(source,'lxml')\n",
    "table=soup.findAll('table')[1]\n",
    "df=pd.read_html(str(table))[0]\n",
    "Location_link=table.findAll('a',href=True)\n",
    "Lat=[];\n",
    "Lon=[];\n",
    "for i in range((len(Location_link))):\n",
    "    k=Location_link[i].get('href')\n",
    "    Lat.append(float(((k.split('?')[1]).split('=')[1]).split(',')[0]))\n",
    "    Lon.append(float(((k.split('?')[1]).split('=')[1]).split(',')[1]))\n",
    "\n",
    "df['Latitude']=Lat[0:]\n",
    "df['Longitude']=Lon[0:]\n",
    "df.rename(columns={'Name':'City', '2019 Population':'Population_2019'},inplace=True)\n",
    "df.drop(['Location'], inplace=True, axis=1)  # Dropping previous index column\n",
    "df.head()"
   ]
  },
  {
   "cell_type": "markdown",
   "metadata": {},
   "source": [
    "<b>Next I will be using FourSquare Data.</b> <i>I need information on restaurants located at different cities from Foursquare so that I can recommend the best city where a new restaurant can be built. Then by sorting the ratio of city population with respect to the number of restaurants in the city I can recommend the city for building a new Restaurant. </i>"
   ]
  },
  {
   "cell_type": "code",
   "execution_count": 5,
   "metadata": {},
   "outputs": [
    {
     "name": "stdout",
     "output_type": "stream",
     "text": [
      "Your credentails:\n",
      "CLIENT_ID: GXLKBXNRITODYOPI3RQ4WECNXD3TR0FFBZLECJRJLCXJROPA\n",
      "CLIENT_SECRET:2VSQJHCG0MK0EKHID1DSXXMWYITGVCE1L1D2WSZBDKFFIYYA\n"
     ]
    }
   ],
   "source": [
    "#CLIENT_ID = '3LYZ031ACXFMPQQWY2LKQSREBFJ52VZRNYT3GICTGDOC1ZCO' # your Foursquare ID\n",
    "CLIENT_ID = 'GXLKBXNRITODYOPI3RQ4WECNXD3TR0FFBZLECJRJLCXJROPA'\n",
    "\n",
    "#CLIENT_SECRET = 'VLHVVINT50G0EA0TP3FV4CCSY1ZYG20C1OCKYQTFH1IQPCGD' # your Foursquare Secret\n",
    "CLIENT_SECRET = '2VSQJHCG0MK0EKHID1DSXXMWYITGVCE1L1D2WSZBDKFFIYYA'\n",
    "\n",
    "VERSION = '20180605' # Foursquare API version\n",
    "LIMIT='400'\n",
    "print('Your credentails:')\n",
    "print('CLIENT_ID: ' + CLIENT_ID)\n",
    "print('CLIENT_SECRET:' + CLIENT_SECRET)"
   ]
  },
  {
   "cell_type": "code",
   "execution_count": 6,
   "metadata": {},
   "outputs": [],
   "source": [
    "def getNearbyVenues(names, latitudes, longitudes, radius=500):\n",
    "    \n",
    "    venues_list=[]\n",
    "    for name, lat, lng in zip(names, latitudes, longitudes):\n",
    "        print(name)\n",
    "            \n",
    "        # create the API request URL\n",
    "        url = 'https://api.foursquare.com/v2/venues/explore?&client_id={}&client_secret={}&v={}&ll={},{}&radius={}&limit={}'.format(\n",
    "            CLIENT_ID, \n",
    "            CLIENT_SECRET, \n",
    "            VERSION, \n",
    "            lat, \n",
    "            lng, \n",
    "            radius, \n",
    "            LIMIT)\n",
    "            \n",
    "        # make the GET request\n",
    "        results = requests.get(url).json()['response']['groups'][0]['items']\n",
    "        \n",
    "        # return only relevant information for each nearby venue\n",
    "        venues_list.append([(\n",
    "            name, \n",
    "            lat, \n",
    "            lng, \n",
    "            v['venue']['name'], \n",
    "            v['venue']['location']['lat'], \n",
    "            v['venue']['location']['lng'],  \n",
    "            v['venue']['categories'][0]['name']) for v in results])\n",
    "\n",
    "    nearby_venues = pd.DataFrame([item for venue_list in venues_list for item in venue_list])\n",
    "    nearby_venues.columns = ['City', \n",
    "                  'City Latitude', \n",
    "                  'City Longitude', \n",
    "                  'Venue', \n",
    "                  'Venue Latitude', \n",
    "                  'Venue Longitude', \n",
    "                  'Venue Category']\n",
    "    \n",
    "    return(nearby_venues)"
   ]
  },
  {
   "cell_type": "code",
   "execution_count": null,
   "metadata": {},
   "outputs": [],
   "source": [
    "India_venues = getNearbyVenues(names=df['City'],\n",
    "                                   latitudes=df['Latitude'],\n",
    "                                   longitudes=df['Longitude']\n",
    "                                  );"
   ]
  },
  {
   "cell_type": "code",
   "execution_count": null,
   "metadata": {},
   "outputs": [],
   "source": [
    "print(India_venues.shape)\n",
    "\n",
    "print('There are {} uniques categories.'.format(len(India_venues['Venue Category'].unique())))\n",
    "India_venues.head()"
   ]
  },
  {
   "cell_type": "markdown",
   "metadata": {},
   "source": [
    "### One hot Encoding"
   ]
  },
  {
   "cell_type": "code",
   "execution_count": null,
   "metadata": {},
   "outputs": [],
   "source": [
    "# one hot encoding\n",
    "In_onehot = pd.get_dummies(India_venues[['Venue Category']], prefix=\"\", prefix_sep=\"\")\n",
    "\n",
    "# add city column back to dataframe\n",
    "In_onehot['City'] = India_venues['City'] \n",
    "\n",
    "# move city column to the first column\n",
    "fixed_columns = [In_onehot.columns[-1]] + list(In_onehot.columns[:-1])\n",
    "In_onehot = In_onehot[fixed_columns]\n",
    "\n",
    "In_onehot.head()"
   ]
  },
  {
   "cell_type": "markdown",
   "metadata": {},
   "source": [
    "### Extracting list of resturants "
   ]
  },
  {
   "cell_type": "code",
   "execution_count": null,
   "metadata": {},
   "outputs": [],
   "source": [
    "Rest_data=In_onehot.filter(like='Restaurant', axis=1)\n",
    "Rest_data['City']=In_onehot['City']\n",
    "Rest_data.head()"
   ]
  },
  {
   "cell_type": "code",
   "execution_count": null,
   "metadata": {},
   "outputs": [],
   "source": [
    "Rest_grouped=Rest_data.groupby(['City']).size().reset_index(name='Counts')\n",
    "df_sort=df.sort_values(by=['City']).reset_index()\n",
    "\n",
    "left=df_sort\n",
    "right=Rest_grouped\n",
    "df_new= pd.merge(left=df_sort,right=Rest_grouped)\n",
    "df_new['Ratio']=df_new['Population_2019']/df_new['Counts']\n",
    "\n",
    "df_new.drop(['index'], inplace=True, axis=1)\n",
    "df_new=df_new.sort_values(by=['Ratio'],ascending=False).reset_index()\n",
    "df_new.drop(['index'], inplace=True, axis=1)\n",
    "df=df_new"
   ]
  },
  {
   "cell_type": "markdown",
   "metadata": {},
   "source": [
    "<i><b>df_new</b> is the complete data that I will be using for my project</i>"
   ]
  },
  {
   "cell_type": "code",
   "execution_count": null,
   "metadata": {},
   "outputs": [],
   "source": []
  }
 ],
 "metadata": {
  "kernelspec": {
   "display_name": "Python 3",
   "language": "python",
   "name": "python3"
  },
  "language_info": {
   "codemirror_mode": {
    "name": "ipython",
    "version": 3
   },
   "file_extension": ".py",
   "mimetype": "text/x-python",
   "name": "python",
   "nbconvert_exporter": "python",
   "pygments_lexer": "ipython3",
   "version": "3.6.8"
  }
 },
 "nbformat": 4,
 "nbformat_minor": 2
}
